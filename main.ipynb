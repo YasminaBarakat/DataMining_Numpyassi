{
 "cells": [
  {
   "cell_type": "code",
   "execution_count": 1,
   "metadata": {},
   "outputs": [],
   "source": [
    "import numpy as np"
   ]
  },
  {
   "cell_type": "code",
   "execution_count": 2,
   "metadata": {},
   "outputs": [],
   "source": [
    "def randomization(n):\n",
    "    \"\"\"\n",
    "    input is an integer n\n",
    "    output is a randomly-generated nx1 Numpy array A\n",
    "    \"\"\"\n",
    "    A = np.random.random(size=n).reshape(n, 1)\n",
    "    return A"
   ]
  },
  {
   "cell_type": "code",
   "execution_count": 9,
   "metadata": {},
   "outputs": [],
   "source": [
    "def operations(h, w):\n",
    "    \"\"\"\n",
    "    inputs h and w, which are the hight and width of both arrays\n",
    "    returns the two arrays A and B, and s which is the sum of them.\n",
    "    \n",
    "    \"\"\"\n",
    "    A = np.random.random(size=(h, w))\n",
    "    B = np.random.random(size=(h, w))\n",
    "    s = A + B\n",
    "    return A, B, s"
   ]
  },
  {
   "cell_type": "code",
   "execution_count": 18,
   "metadata": {},
   "outputs": [
    {
     "data": {
      "text/plain": [
       "(array([[0.6656925 , 0.13649196, 0.65489915, 0.3461107 ],\n",
       "        [0.12742844, 0.02810267, 0.47101862, 0.39858732],\n",
       "        [0.35807723, 0.87083873, 0.619065  , 0.1143599 ]]),\n",
       " array([[0.47392049, 0.24146331, 0.04421492, 0.50092057],\n",
       "        [0.3590518 , 0.30213765, 0.1039726 , 0.63243014],\n",
       "        [0.15582796, 0.17966711, 0.34109521, 0.46818442]]),\n",
       " array([[1.13961299, 0.37795527, 0.69911407, 0.84703127],\n",
       "        [0.48648025, 0.33024032, 0.57499123, 1.03101746],\n",
       "        [0.51390519, 1.05050584, 0.96016021, 0.58254431]]))"
      ]
     },
     "execution_count": 18,
     "metadata": {},
     "output_type": "execute_result"
    }
   ],
   "source": [
    "operations(3,4)"
   ]
  },
  {
   "cell_type": "code",
   "execution_count": 11,
   "metadata": {},
   "outputs": [],
   "source": [
    "def norm(A, B):\n",
    "    \"\"\"\n",
    "    input is two Numpy column arrays A and B\n",
    "    returns the L2 norm of their sum.\n",
    "    \n",
    "    \"\"\"\n",
    "    s = A + B\n",
    "    return np.linalg.norm(s)"
   ]
  },
  {
   "cell_type": "code",
   "execution_count": 19,
   "metadata": {},
   "outputs": [
    {
     "data": {
      "text/plain": [
       "2.0548357128940546"
      ]
     },
     "execution_count": 19,
     "metadata": {},
     "output_type": "execute_result"
    }
   ],
   "source": [
    "A = randomization(3)\n",
    "B = randomization(3)\n",
    "norm(A,B)"
   ]
  },
  {
   "cell_type": "code",
   "execution_count": 20,
   "metadata": {},
   "outputs": [],
   "source": [
    "def neural_network(inputs, weights):\n",
    "    \"\"\"\n",
    "     input is vector (2x1 numpy array) that goes through a 1-layer neural network\n",
    "     with a randomized weight (2x1 matrix numpy array) and one output (1x1 numpy array).\n",
    "\n",
    "    \"\"\"\n",
    "    z = np.tanh(weights.T.dot(inputs))\n",
    "    return z"
   ]
  },
  {
   "cell_type": "code",
   "execution_count": 21,
   "metadata": {},
   "outputs": [
    {
     "data": {
      "text/plain": [
       "array([[0.75591579]])"
      ]
     },
     "execution_count": 21,
     "metadata": {},
     "output_type": "execute_result"
    }
   ],
   "source": [
    "inputs = randomization(4)\n",
    "weights = randomization(4)\n",
    "neural_network(inputs, weights)"
   ]
  },
  {
   "cell_type": "code",
   "execution_count": 22,
   "metadata": {},
   "outputs": [],
   "source": [
    "def scalar_function(x, y):\n",
    "\n",
    "    if x<=y:\n",
    "       return (np.dot(x,y))\n",
    "    else:\n",
    "       return(x/y)"
   ]
  },
  {
   "cell_type": "code",
   "execution_count": 23,
   "metadata": {},
   "outputs": [
    {
     "data": {
      "text/plain": [
       "2.0"
      ]
     },
     "execution_count": 23,
     "metadata": {},
     "output_type": "execute_result"
    }
   ],
   "source": [
    "scalar_function(4, 2)"
   ]
  },
  {
   "cell_type": "code",
   "execution_count": 26,
   "metadata": {},
   "outputs": [],
   "source": [
    "def vector_function(x, y):\n",
    "    vectorFunc = np.vectorize(scalar_function)\n",
    "    return vectorFunc(x,y)"
   ]
  },
  {
   "cell_type": "code",
   "execution_count": 27,
   "metadata": {},
   "outputs": [
    {
     "data": {
      "text/plain": [
       "array(2.)"
      ]
     },
     "execution_count": 27,
     "metadata": {},
     "output_type": "execute_result"
    }
   ],
   "source": [
    "vector_function(4, 2)"
   ]
  },
  {
   "cell_type": "code",
   "execution_count": 28,
   "metadata": {},
   "outputs": [
    {
     "data": {
      "text/plain": [
       "8"
      ]
     },
     "execution_count": 28,
     "metadata": {},
     "output_type": "execute_result"
    }
   ],
   "source": [
    "scalar_function(2, 4)"
   ]
  },
  {
   "cell_type": "code",
   "execution_count": 29,
   "metadata": {},
   "outputs": [
    {
     "data": {
      "text/plain": [
       "array(8)"
      ]
     },
     "execution_count": 29,
     "metadata": {},
     "output_type": "execute_result"
    }
   ],
   "source": [
    "vector_function(2, 4)"
   ]
  }
 ],
 "metadata": {
  "kernelspec": {
   "display_name": "Python 3",
   "language": "python",
   "name": "python3"
  },
  "language_info": {
   "codemirror_mode": {
    "name": "ipython",
    "version": 3
   },
   "file_extension": ".py",
   "mimetype": "text/x-python",
   "name": "python",
   "nbconvert_exporter": "python",
   "pygments_lexer": "ipython3",
   "version": "3.8.3"
  }
 },
 "nbformat": 4,
 "nbformat_minor": 4
}
